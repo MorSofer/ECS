{
  "nbformat": 4,
  "nbformat_minor": 0,
  "metadata": {
    "colab": {
      "name": "Missing_Values.ipynb",
      "provenance": [],
      "authorship_tag": "ABX9TyMs3luaFohwBmug2kky0k10",
      "include_colab_link": true
    },
    "kernelspec": {
      "name": "python3",
      "display_name": "Python 3"
    },
    "language_info": {
      "name": "python"
    }
  },
  "cells": [
    {
      "cell_type": "markdown",
      "metadata": {
        "id": "view-in-github",
        "colab_type": "text"
      },
      "source": [
        "<a href=\"https://colab.research.google.com/github/MorSofer/ECS/blob/master/Missing_Values.ipynb\" target=\"_parent\"><img src=\"https://colab.research.google.com/assets/colab-badge.svg\" alt=\"Open In Colab\"/></a>"
      ]
    },
    {
      "cell_type": "code",
      "metadata": {
        "id": "xWt3NQz-xgCB"
      },
      "source": [
        "from termcolor import colored"
      ],
      "execution_count": 74,
      "outputs": []
    },
    {
      "cell_type": "code",
      "metadata": {
        "colab": {
          "base_uri": "https://localhost:8080/"
        },
        "id": "63LN091oxtAe",
        "outputId": "d3547fb7-56c1-4700-d7eb-452360e99a97"
      },
      "source": [
        "test_list = [-5, 5, 6, 8, 10]\n",
        "\n",
        "def missingVals(my_list):\n",
        "  max_element = max(abs(max(my_list)),(abs(min(my_list))))\n",
        "  temp = list(range(-max_element, max_element + 1))\n",
        "  temp.sort()\n",
        "  res = []\n",
        "  for e in temp:\n",
        "    if e in my_list: \n",
        "      print(e, end=', ')\n",
        "    else: \n",
        "      print(colored(e, attrs=['bold']),end=', ')\n",
        "\n",
        "missingVals(test_list)\n"
      ],
      "execution_count": 75,
      "outputs": [
        {
          "output_type": "stream",
          "name": "stdout",
          "text": [
            "\u001b[1m-10\u001b[0m, \u001b[1m-9\u001b[0m, \u001b[1m-8\u001b[0m, \u001b[1m-7\u001b[0m, \u001b[1m-6\u001b[0m, -5, \u001b[1m-4\u001b[0m, \u001b[1m-3\u001b[0m, \u001b[1m-2\u001b[0m, \u001b[1m-1\u001b[0m, \u001b[1m0\u001b[0m, \u001b[1m1\u001b[0m, \u001b[1m2\u001b[0m, \u001b[1m3\u001b[0m, \u001b[1m4\u001b[0m, 5, 6, \u001b[1m7\u001b[0m, 8, \u001b[1m9\u001b[0m, 10, "
          ]
        }
      ]
    },
    {
      "cell_type": "markdown",
      "metadata": {
        "id": "hhdvy8NBAZQ2"
      },
      "source": [
        "In the example file I notice the results are without '0', there for I made next block of code to remove '0' and the one above print the '0'\n"
      ]
    },
    {
      "cell_type": "code",
      "metadata": {
        "colab": {
          "base_uri": "https://localhost:8080/"
        },
        "id": "VrJXgHkkAXlC",
        "outputId": "9beb79d6-e29e-45ab-81fd-00b0a211e80b"
      },
      "source": [
        "test_list = [-5, 5, 6, 8, 10]\n",
        "\n",
        "def missingVals(my_list):\n",
        "  max_element = max(abs(max(my_list)),(abs(min(my_list))))\n",
        "  temp = list(range(-max_element, max_element + 1))\n",
        "  temp.remove(0)\n",
        "  temp.sort()\n",
        "  for e in temp:\n",
        "    if e in my_list: \n",
        "      print(e, end=', ')\n",
        "    else: \n",
        "      print(colored(e, attrs=['bold']),end=', ')\n",
        "\n",
        "missingVals(test_list)\n"
      ],
      "execution_count": 78,
      "outputs": [
        {
          "output_type": "stream",
          "name": "stdout",
          "text": [
            "\u001b[1m-10\u001b[0m, \u001b[1m-9\u001b[0m, \u001b[1m-8\u001b[0m, \u001b[1m-7\u001b[0m, \u001b[1m-6\u001b[0m, -5, \u001b[1m-4\u001b[0m, \u001b[1m-3\u001b[0m, \u001b[1m-2\u001b[0m, \u001b[1m-1\u001b[0m, \u001b[1m1\u001b[0m, \u001b[1m2\u001b[0m, \u001b[1m3\u001b[0m, \u001b[1m4\u001b[0m, 5, 6, \u001b[1m7\u001b[0m, 8, \u001b[1m9\u001b[0m, 10, "
          ]
        }
      ]
    }
  ]
}